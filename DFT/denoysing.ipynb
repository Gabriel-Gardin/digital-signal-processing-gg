{
 "cells": [
  {
   "cell_type": "markdown",
   "metadata": {},
   "source": [
    "### USANDO FFT COMO ALGORITMO PARA REMOVER RUÍDO DE UM SINAL"
   ]
  },
  {
   "cell_type": "code",
   "execution_count": 32,
   "metadata": {},
   "outputs": [],
   "source": [
    "%matplotlib qt"
   ]
  },
  {
   "cell_type": "code",
   "execution_count": 33,
   "metadata": {},
   "outputs": [],
   "source": [
    "import numpy as np\n",
    "import matplotlib.pyplot as plt\n",
    "from scipy.signal import butter, lfilter, correlate"
   ]
  },
  {
   "cell_type": "code",
   "execution_count": 34,
   "metadata": {},
   "outputs": [],
   "source": [
    "def butter_lowpass_filter(data, cutoff, fs):\n",
    "    b, a = butter(4, cutoff, fs=fs, btype='low', analog=False)\n",
    "    y = lfilter(b, a, data)\n",
    "    return y"
   ]
  },
  {
   "cell_type": "code",
   "execution_count": 35,
   "metadata": {},
   "outputs": [],
   "source": [
    "def H(d, omega, beta, c, An):\n",
    "    \"\"\"\n",
    "    Função de resposta de frequência H(d, omega).\n",
    "    \n",
    "    Parâmetros:\n",
    "    - d: distância do sensor ao vazamento (m)\n",
    "    - omega: frequência angular (rad/s)\n",
    "    - beta: fator de atenuação (1/m)\n",
    "    - c: velocidade de propagação do ruído (m/s)\n",
    "    - An: ganho associado ao tipo de sensor\n",
    "    \n",
    "    Retorna:\n",
    "    - H: função de resposta de frequência (complexa)\n",
    "    \"\"\"\n",
    "    return An * np.exp(-beta * d) * np.exp(-1j * omega * d / c)"
   ]
  },
  {
   "cell_type": "code",
   "execution_count": 36,
   "metadata": {},
   "outputs": [],
   "source": [
    "\n",
    "plt.rcParams['figure.figsize'] = [16, 12]\n",
    "plt.rcParams.update({'font.size': 18})"
   ]
  },
  {
   "cell_type": "code",
   "execution_count": 37,
   "metadata": {},
   "outputs": [],
   "source": [
    "# create a simple signal with two frequencies\n",
    "\n",
    "dt = 0.0005\n",
    "t = np.arange(0,5,dt)\n",
    "\n",
    "sig = 2.5*np.random.randn(len(t))\n",
    "\n",
    "sig_fft = np.fft.rfft(sig)"
   ]
  },
  {
   "cell_type": "code",
   "execution_count": 38,
   "metadata": {},
   "outputs": [],
   "source": [
    "# Exemplo de uso:\n",
    "d = 20  # distância (m)\n",
    "beta = 1.99e-4  # fator de atenuação (1/m)\n",
    "c = 356  # velocidade de propagação (m/s)\n",
    "\n",
    "# Frequências associadas ao sinal\n",
    "frequencies = np.fft.rfftfreq(len(t), 1 / 1 / dt)\n",
    "omega = 2 * np.pi * frequencies\n",
    "\n",
    "An_hydrophone = 1  # ganho (exemplo para hidrofones)"
   ]
  },
  {
   "cell_type": "code",
   "execution_count": 39,
   "metadata": {},
   "outputs": [],
   "source": [
    "H_response1 = H(30, omega, beta, c, An_hydrophone)"
   ]
  },
  {
   "cell_type": "code",
   "execution_count": 40,
   "metadata": {},
   "outputs": [],
   "source": [
    "H_response2 = H(30, omega, beta, c, An_hydrophone)"
   ]
  },
  {
   "cell_type": "code",
   "execution_count": 41,
   "metadata": {},
   "outputs": [],
   "source": [
    "sig1_pipe_filtered_fft = H_response1 * sig_fft\n",
    "sig2_pipe_filtered_fft = H_response2 * sig_fft\n",
    "\n",
    "sig1_pipe_filtered = np.fft.irfft(sig1_pipe_filtered_fft)\n",
    "sig2_pipe_filtered = np.fft.irfft(sig2_pipe_filtered_fft)"
   ]
  },
  {
   "cell_type": "code",
   "execution_count": 42,
   "metadata": {},
   "outputs": [],
   "source": [
    "## Plots\n",
    "fig,axs = plt.subplots(4,1)\n",
    "\n",
    "plt.sca(axs[0])\n",
    "plt.plot(t,sig1,color='r',linewidth=1.5,label='original sig1')\n",
    "plt.xlim(t[0],t[-1])\n",
    "plt.ylim(-10, 10)\n",
    "plt.legend()\n",
    "\n",
    "plt.sca(axs[1])\n",
    "plt.plot(t,sig2,color='k',linewidth=1.5,label='original sig2')\n",
    "plt.xlim(t[0],t[-1])\n",
    "plt.ylim(-10, 10)\n",
    "plt.legend()\n",
    "\n",
    "plt.sca(axs[2])\n",
    "plt.plot(t,sig1_pipe_filtered,color='r',linewidth=1.5,label='filtered sig1')\n",
    "plt.xlim(t[0],t[-1])\n",
    "plt.ylim(-10, 10)\n",
    "plt.legend()\n",
    "\n",
    "plt.sca(axs[3])\n",
    "plt.plot(t,sig2_pipe_filtered,color='k',linewidth=1.5,label='filtered sig2')\n",
    "plt.xlim(t[0],t[-1])\n",
    "plt.ylim(-10, 10)\n",
    "plt.legend()\n",
    "\n",
    "\n",
    "plt.show()"
   ]
  },
  {
   "cell_type": "code",
   "execution_count": 43,
   "metadata": {},
   "outputs": [],
   "source": [
    "corr = correlate(sig1_pipe_filtered, sig2_pipe_filtered)\n",
    "plt.plot(corr,color='r',linewidth=1.5,label='correlated noise')\n",
    "plt.legend()\n",
    "plt.show()"
   ]
  },
  {
   "cell_type": "code",
   "execution_count": null,
   "metadata": {},
   "outputs": [],
   "source": [
    "H_response.shape"
   ]
  }
 ],
 "metadata": {
  "kernelspec": {
   "display_name": "venv",
   "language": "python",
   "name": "python3"
  },
  "language_info": {
   "codemirror_mode": {
    "name": "ipython",
    "version": 3
   },
   "file_extension": ".py",
   "mimetype": "text/x-python",
   "name": "python",
   "nbconvert_exporter": "python",
   "pygments_lexer": "ipython3",
   "version": "3.10.13"
  }
 },
 "nbformat": 4,
 "nbformat_minor": 2
}
