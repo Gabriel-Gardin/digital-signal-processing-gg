{
 "cells": [
  {
   "cell_type": "markdown",
   "metadata": {},
   "source": [
    "### FUNÇÃO DE TRANSFERENCIA PARA SIMULAÇÃO DE RUÍDOS DE VAZAMENTO"
   ]
  },
  {
   "cell_type": "code",
   "execution_count": 4,
   "metadata": {},
   "outputs": [],
   "source": [
    "%matplotlib qt "
   ]
  },
  {
   "cell_type": "code",
   "execution_count": 5,
   "metadata": {},
   "outputs": [],
   "source": [
    "import numpy as np\n",
    "import matplotlib.pyplot as plt\n",
    "import scipy.signal as signal\n",
    "from scipy.signal import lfilter"
   ]
  },
  {
   "cell_type": "code",
   "execution_count": 6,
   "metadata": {},
   "outputs": [],
   "source": [
    "def butter_bandpass(lowcut, highcut, fs, order=3):\n",
    "    \"\"\"\n",
    "    Implementação do filtro butterworth passa-banda.\n",
    "    \"\"\"\n",
    "\n",
    "#oi gabriel\n",
    "    nyq = 0.5 * fs\n",
    "    low = lowcut / nyq\n",
    "    high = highcut / nyq\n",
    "    b, a = signal.butter(order, [low, high], btype=\"band\")\n",
    "    return b, a"
   ]
  },
  {
   "cell_type": "code",
   "execution_count": 7,
   "metadata": {},
   "outputs": [],
   "source": [
    "def butter_bandpass_filter(data, lowcut, highcut, fs, order=3):\n",
    "    \"\"\"\n",
    "    Filtro butterworth passa-banda.\n",
    "    \"\"\"\n",
    "\n",
    "    b, a = butter_bandpass(lowcut, highcut, fs, order=order)\n",
    "    y = lfilter(b, a, data)\n",
    "    return y"
   ]
  },
  {
   "cell_type": "code",
   "execution_count": 8,
   "metadata": {},
   "outputs": [],
   "source": [
    "# Função de transferência H conforme a Equação (6)\n",
    "def H(d, omega, beta, c, A_n, n):\n",
    "    \"\"\"\n",
    "    Calcula a função de resposta de frequência H(d, omega).\n",
    "    \n",
    "    Parâmetros:\n",
    "    - d: distância do sensor ao vazamento (m)\n",
    "    - omega: frequência angular (rad/s)\n",
    "    - beta: fator de atenuação (1/m)\n",
    "    - c: velocidade de propagação do ruído (m/s)\n",
    "    - A_n: ganho associado ao tipo de sensor\n",
    "    - n: ordem do sensor (0: hidrofones, 1: geofones, 2: acelerômetros)\n",
    "    \n",
    "    Retorna:\n",
    "    - H: valor complexo da FRF\n",
    "    \"\"\"\n",
    "    return A_n * (1j * omega)**n * np.exp(-omega * beta * d) * np.exp(-1j * omega * d / c)"
   ]
  },
  {
   "cell_type": "code",
   "execution_count": 9,
   "metadata": {},
   "outputs": [],
   "source": [
    "def plot_correlation(corr, lags, name = None):\n",
    "    \n",
    "    max_lag = int(lags[np.argmax(corr)])\n",
    "\n",
    "    plt.plot(lags, corr, label=f'Max lag = {max_lag}ms')\n",
    "    plt.ylabel('Intensidade - correlação')\n",
    "    plt.legend()\n",
    "    plt.xlabel('Lag(ms)')\n",
    "    if name:\n",
    "        plt.savefig(name)\n",
    "    plt.show()"
   ]
  },
  {
   "cell_type": "code",
   "execution_count": 10,
   "metadata": {},
   "outputs": [],
   "source": [
    "def norm_correlate(x, y):\n",
    "    \"\"\"\n",
    "    Calcula a correlação cruzada (completa) entre dois sinais.\n",
    "    \"\"\"\n",
    "\n",
    "    n = min(len(x), len(y))\n",
    "    c = signal.correlate(x / np.std(x), y / np.std(y), mode=\"full\")\n",
    "    return c / n\n"
   ]
  },
  {
   "cell_type": "code",
   "execution_count": 11,
   "metadata": {},
   "outputs": [],
   "source": [
    "def correlate(audio1, audio2, sr):\n",
    "    \"\"\"\n",
    "    Recebe uma instância da correlação, realiza os cálculos e salva os mesmos no banco de dados.\n",
    "    O argumento lag_interval é utilizado para limitar a área máxima da correlação.\n",
    "    \"\"\"\n",
    "\n",
    "    corr = norm_correlate(audio1, audio2)\n",
    "\n",
    "    corr = corr.tolist()\n",
    "\n",
    "    lags = signal.correlation_lags(len(audio1), len(audio2))\n",
    "\n",
    "\n",
    "    lags_ms = [(i / sr) * 1000 for i in lags]  # A sample rate do sinal de áudio é sempre a mesma que a do rádio.\n",
    "\n",
    "    max_lag = int(lags_ms[np.argmax(corr)])\n",
    "\n",
    "    results_dict = {}\n",
    "\n",
    "    results_dict[\"lags_ms\"] = lags_ms\n",
    "    results_dict[\"max_lag\"] = max_lag\n",
    "    results_dict[\"result\"] = corr\n",
    "\n",
    "    return results_dict"
   ]
  },
  {
   "cell_type": "code",
   "execution_count": 12,
   "metadata": {},
   "outputs": [],
   "source": [
    "# Parâmetros do sistema\n",
    "d = 70  # Distância do sensor ao vazamento (m)\n",
    "beta = 1.0e-4  # Fator de atenuação (1/m)\n",
    "c = 356  # Velocidade de propagação (m/s)\n",
    "\n",
    "# Parâmetros específicos para hidrofones (n = 0)\n",
    "n_hydrophone = 0\n",
    "A_hydrophone = 1  # Ganho específico do hidrofone (sem unidades)\n",
    "\n",
    "# Parâmetros específicos para geofones (n = 1)\n",
    "n_geophone = 1\n",
    "A_geophone = 1  # Exemplo: substitua com valores reais calculados\n",
    "\n",
    "# Parâmetros específicos para acelerômetros (n = 2)\n",
    "n_accelerometer = 2\n",
    "A_accelerometer = 1  # Exemplo: substitua com valores reais calculados\n",
    "\n",
    "\n",
    "\n",
    "\n",
    "# Geração de frequências e cálculo de H\n",
    "fs = 1960  # Frequência de amostragem (Hz)\n",
    "\n",
    "\n",
    "dt = 1/fs\n",
    "t = np.arange(0,5,dt)\n",
    "\n",
    "frequencies = np.fft.rfftfreq(len(t), 1 / fs)  # Frequências de Fourier\n",
    "omega = 2 * np.pi * frequencies  # Frequências angulares (rad/s)\n",
    "\n",
    "# Calculando as FRFs\n",
    "H_hydrophone = H(d, omega, beta, c, A_hydrophone, n_hydrophone)\n",
    "H_geophone = H(d, omega, beta, c, A_geophone, n_geophone)\n",
    "H_accelerometer = H(d, omega, beta, c, A_accelerometer, n_accelerometer)\n"
   ]
  },
  {
   "cell_type": "code",
   "execution_count": 13,
   "metadata": {},
   "outputs": [
    {
     "data": {
      "text/plain": [
       "<matplotlib.legend.Legend at 0x1dafbecbf20>"
      ]
     },
     "execution_count": 13,
     "metadata": {},
     "output_type": "execute_result"
    }
   ],
   "source": [
    "# Visualização dos módulos\n",
    "plt.figure(figsize=(10, 5))\n",
    "plt.plot(frequencies, np.abs(H_hydrophone)/max(np.abs(H_hydrophone)), label=\"Hydrophone (n=0)\")\n",
    "plt.plot(frequencies, np.abs(H_geophone)/max(np.abs(H_geophone)), label=\"Geofone (n=1)\")\n",
    "plt.plot(frequencies, np.abs(H_accelerometer)/max(np.abs(H_accelerometer)), label=\"Acelerômetro (n=2)\")\n",
    "plt.title(\"Módulo da Função de Resposta de Frequência (FRF)\")\n",
    "plt.xlabel(\"Frequência [Hz]\")\n",
    "plt.ylabel(\"|H(d, ω)|\")\n",
    "plt.grid()\n",
    "plt.legend()"
   ]
  },
  {
   "cell_type": "code",
   "execution_count": null,
   "metadata": {},
   "outputs": [],
   "source": []
  },
  {
   "cell_type": "markdown",
   "metadata": {},
   "source": [
    "### Gerando um sinal aleatório para simular o ruído de vazamento"
   ]
  },
  {
   "cell_type": "code",
   "execution_count": 14,
   "metadata": {},
   "outputs": [],
   "source": [
    "sig = np.random.randn(len(t))\n",
    "\n",
    "sig_fft = np.fft.rfft(sig)"
   ]
  },
  {
   "cell_type": "code",
   "execution_count": 15,
   "metadata": {},
   "outputs": [
    {
     "data": {
      "text/plain": [
       "3.7768835756617745"
      ]
     },
     "execution_count": 15,
     "metadata": {},
     "output_type": "execute_result"
    }
   ],
   "source": [
    "max(sig)"
   ]
  },
  {
   "cell_type": "code",
   "execution_count": 16,
   "metadata": {},
   "outputs": [],
   "source": [
    "H_response1 = H(70, omega, beta, c, A_hydrophone, n_hydrophone)\n",
    "H_response2 = H(200, omega, beta, c, A_hydrophone, n_hydrophone)\n",
    "\n",
    "#aplicando a FRF ao ruído\n",
    "sig1 = np.fft.irfft(H_response1 * sig_fft)\n",
    "sig2 = np.fft.irfft(H_response2 * sig_fft)\n"
   ]
  },
  {
   "cell_type": "code",
   "execution_count": 17,
   "metadata": {},
   "outputs": [],
   "source": [
    "f, Pxy = signal.csd(sig1, sig2, fs, nperseg=2*fs)\n",
    "\n",
    "# Extrair o ângulo de fase em radianos\n",
    "phase_rad = np.angle(Pxy)\n",
    "\n",
    "# Desembrulhar a fase para evitar saltos bruscos\n",
    "unwrapped_phase_rad = np.unwrap(phase_rad)\n",
    "\n",
    "# Converter para graus\n",
    "unwrapped_phase_deg = np.degrees(unwrapped_phase_rad)\n",
    "\n",
    "plt.xlim([0, 1000])\n",
    "plt.plot(f, unwrapped_phase_deg)\n",
    "plt.title('Unwrapped Phase Angle (graus)')\n",
    "plt.xlabel('Frequência [Hz]')\n",
    "plt.ylabel('Fase [graus]')\n",
    "plt.show()"
   ]
  },
  {
   "cell_type": "code",
   "execution_count": null,
   "metadata": {},
   "outputs": [],
   "source": []
  },
  {
   "cell_type": "code",
   "execution_count": 18,
   "metadata": {},
   "outputs": [],
   "source": [
    "f, Pxy = signal.coherence(sig1, sig2, fs, nperseg=2*fs)\n",
    "\n",
    "# Adicionar linha no eixo y=0 (linha horizontal)\n",
    "plt.axhline(0, color='black',linewidth=1)\n",
    "\n",
    "# Adicionar linha no eixo x=0 (linha vertical)\n",
    "plt.axvline(0, color='black',linewidth=1)\n",
    "\n",
    "plt.xlim([0, 1000])\n",
    "plt.plot(f, 10*np.log10(Pxy))\n",
    "plt.title('Cross power spectrum density')\n",
    "plt.xlabel('Frequência [Hz]')\n",
    "plt.ylabel('Intensidade dB')\n",
    "plt.show()"
   ]
  },
  {
   "cell_type": "code",
   "execution_count": 19,
   "metadata": {},
   "outputs": [],
   "source": [
    "s1 = butter_bandpass_filter(sig1, 1, 140, fs)\n",
    "s2 = butter_bandpass_filter(sig2, 1, 140, fs)\n",
    "\n",
    "results = correlate(s1, s2, fs)\n",
    "plot_correlation(results['result'], results[\"lags_ms\"])"
   ]
  },
  {
   "cell_type": "code",
   "execution_count": null,
   "metadata": {},
   "outputs": [],
   "source": []
  },
  {
   "cell_type": "code",
   "execution_count": null,
   "metadata": {},
   "outputs": [],
   "source": []
  }
 ],
 "metadata": {
  "kernelspec": {
   "display_name": "Python 3 (ipykernel)",
   "language": "python",
   "name": "python3"
  },
  "language_info": {
   "codemirror_mode": {
    "name": "ipython",
    "version": 3
   },
   "file_extension": ".py",
   "mimetype": "text/x-python",
   "name": "python",
   "nbconvert_exporter": "python",
   "pygments_lexer": "ipython3",
   "version": "3.12.8"
  }
 },
 "nbformat": 4,
 "nbformat_minor": 4
}
